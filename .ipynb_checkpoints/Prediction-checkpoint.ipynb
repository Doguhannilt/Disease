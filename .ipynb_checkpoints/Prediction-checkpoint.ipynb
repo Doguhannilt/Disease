{
 "cells": [
  {
   "cell_type": "code",
   "execution_count": 33,
   "id": "60bb1fe9",
   "metadata": {},
   "outputs": [],
   "source": [
    "class Prediction():\n",
    "    def prediction(self):\n",
    "        import pandas as pd\n",
    "        import numpy as np\n",
    "        import tensorflow as tf\n",
    "        import os\n",
    "        loaded_model = tf.saved_model.load('C:/Users/doguy/Desktop/Health')\n",
    "        \"\"\"\n",
    "        # call the model on the test data\n",
    "        result = loaded_model.signatures['serving_default'](inputs=test_input)\n",
    "        print(result)\n",
    "        \"\"\""
   ]
  },
  {
   "cell_type": "code",
   "execution_count": null,
   "id": "704270aa",
   "metadata": {},
   "outputs": [],
   "source": []
  }
 ],
 "metadata": {
  "kernelspec": {
   "display_name": "Python 3 (ipykernel)",
   "language": "python",
   "name": "python3"
  },
  "language_info": {
   "codemirror_mode": {
    "name": "ipython",
    "version": 3
   },
   "file_extension": ".py",
   "mimetype": "text/x-python",
   "name": "python",
   "nbconvert_exporter": "python",
   "pygments_lexer": "ipython3",
   "version": "3.9.12"
  }
 },
 "nbformat": 4,
 "nbformat_minor": 5
}
