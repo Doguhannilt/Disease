{
 "cells": [
  {
   "cell_type": "code",
   "execution_count": 113,
   "id": "3584586f",
   "metadata": {},
   "outputs": [],
   "source": [
    "from NumericalSystem import NumericalSystem\n",
    "from Prediction import Prediction\n",
    "import pandas as pd\n",
    "import numpy as np\n",
    "import tensorflow as tf\n",
    "import os"
   ]
  },
  {
   "cell_type": "code",
   "execution_count": 114,
   "id": "15794a91",
   "metadata": {},
   "outputs": [
    {
     "data": {
      "text/plain": [
       "array([[[[0, 0, 0, 0, 0, 0, 0, 0, 0, 0, 0, 0, 0, 0, 0, 0, 0, 0, 0, 0,\n",
       "          0, 0, 0, 0, 0, 0, 0, 0, 0, 0, 0, 0, 0, 0, 0, 0, 0, 0, 0, 0,\n",
       "          0, 0, 0, 0, 0, 0, 0, 0, 0, 0, 0, 0, 0, 0, 0, 0, 0, 0, 0, 0,\n",
       "          0, 0, 0, 0, 0, 0, 0, 0, 0, 0, 0, 0, 0, 0, 0, 0, 0, 0, 0, 0,\n",
       "          0, 0, 0, 0, 0, 0, 0, 0, 0, 0, 0, 0, 0, 0, 0, 0, 0, 0, 0, 0,\n",
       "          0, 0, 0, 0, 0, 0, 0, 0, 0, 0, 0, 0, 0, 0, 0, 0, 0, 1, 0, 0,\n",
       "          0, 0, 0, 0, 0, 0, 0, 0, 0, 0, 0, 0, 0, 0, 0, 0, 0, 0, 0, 0,\n",
       "          0, 0, 0, 0, 0, 0, 0, 0, 0, 0, 0, 0, 0, 0, 0, 0, 0, 0, 0, 0,\n",
       "          0, 0, 0, 0, 0, 0, 1, 1, 1, 0, 0, 0]]]], dtype=int64)"
      ]
     },
     "execution_count": 114,
     "metadata": {},
     "output_type": "execute_result"
    }
   ],
   "source": [
    "numerical = NumericalSystem()\n",
    "# Call the System method to get the DataFrame\n",
    "result_df = numerical.System()\n",
    "np.array([[result_df]])"
   ]
  },
  {
   "cell_type": "code",
   "execution_count": 120,
   "id": "31109cf5",
   "metadata": {},
   "outputs": [
    {
     "data": {
      "text/html": [
       "<div>\n",
       "<style scoped>\n",
       "    .dataframe tbody tr th:only-of-type {\n",
       "        vertical-align: middle;\n",
       "    }\n",
       "\n",
       "    .dataframe tbody tr th {\n",
       "        vertical-align: top;\n",
       "    }\n",
       "\n",
       "    .dataframe thead th {\n",
       "        text-align: right;\n",
       "    }\n",
       "</style>\n",
       "<table border=\"1\" class=\"dataframe\">\n",
       "  <thead>\n",
       "    <tr style=\"text-align: right;\">\n",
       "      <th></th>\n",
       "      <th>enlarged_thyroid</th>\n",
       "      <th>cramps</th>\n",
       "      <th>stomach_pain</th>\n",
       "      <th>movement_stiffness</th>\n",
       "      <th>passage_of_gases</th>\n",
       "      <th>family_history</th>\n",
       "      <th>nausea</th>\n",
       "      <th>headache</th>\n",
       "      <th>dischromic_patches</th>\n",
       "      <th>altered_sensorium</th>\n",
       "      <th>...</th>\n",
       "      <th>stomach_bleeding</th>\n",
       "      <th>continuous_feel_of_urine</th>\n",
       "      <th>sunken_eyes</th>\n",
       "      <th>blood_in_sputum</th>\n",
       "      <th>fast_heart_rate</th>\n",
       "      <th>knee_pain</th>\n",
       "      <th>yellowing_of_eyes</th>\n",
       "      <th>puffy_face_and_eyes</th>\n",
       "      <th>bloody_stool</th>\n",
       "      <th>receiving_blood_transfusion</th>\n",
       "    </tr>\n",
       "  </thead>\n",
       "  <tbody>\n",
       "    <tr>\n",
       "      <th>0</th>\n",
       "      <td>0</td>\n",
       "      <td>0</td>\n",
       "      <td>0</td>\n",
       "      <td>0</td>\n",
       "      <td>0</td>\n",
       "      <td>0</td>\n",
       "      <td>0</td>\n",
       "      <td>0</td>\n",
       "      <td>0</td>\n",
       "      <td>0</td>\n",
       "      <td>...</td>\n",
       "      <td>0</td>\n",
       "      <td>0</td>\n",
       "      <td>0</td>\n",
       "      <td>0</td>\n",
       "      <td>0</td>\n",
       "      <td>0</td>\n",
       "      <td>0</td>\n",
       "      <td>0</td>\n",
       "      <td>0</td>\n",
       "      <td>0</td>\n",
       "    </tr>\n",
       "  </tbody>\n",
       "</table>\n",
       "<p>1 rows × 131 columns</p>\n",
       "</div>"
      ],
      "text/plain": [
       "   enlarged_thyroid  cramps  stomach_pain  movement_stiffness  \\\n",
       "0                 0       0             0                   0   \n",
       "\n",
       "   passage_of_gases  family_history  nausea  headache  dischromic_patches  \\\n",
       "0                 0               0       0         0                   0   \n",
       "\n",
       "   altered_sensorium  ...  stomach_bleeding  continuous_feel_of_urine  \\\n",
       "0                  0  ...                 0                         0   \n",
       "\n",
       "   sunken_eyes  blood_in_sputum  fast_heart_rate  knee_pain  \\\n",
       "0            0                0                0          0   \n",
       "\n",
       "   yellowing_of_eyes  puffy_face_and_eyes  bloody_stool  \\\n",
       "0                  0                    0             0   \n",
       "\n",
       "   receiving_blood_transfusion  \n",
       "0                            0  \n",
       "\n",
       "[1 rows x 131 columns]"
      ]
     },
     "execution_count": 120,
     "metadata": {},
     "output_type": "execute_result"
    }
   ],
   "source": [
    "X_train = ['enlarged_thyroid', 'cramps', 'stomach_pain', 'movement_stiffness', 'passage_of_gases', 'family_history', 'nausea', 'headache', 'dischromic_patches', 'altered_sensorium', 'back_pain', 'irregular_sugar_level', 'lack_of_concentration', 'brittle_nails', 'watering_from_eyes', 'abnormal_menstruation', 'pus_filled_pimples', 'spinning_movements', 'anxiety', 'slurred_speech', 'weakness_of_one_body_side', 'stiff_neck', 'palpitations', 'irritability', 'throat_irritation', 'runny_nose', 'phlegm', 'inflammatory_nails', 'belly_pain', 'receiving_unsterile_injections', 'neck_pain', 'patches_in_throat', 'prominent_veins_on_calf', 'lethargy', 'internal_itching', 'shivering', 'dark_urine', 'swelling_of_stomach', 'loss_of_smell', 'swelling_joints', 'small_dents_in_nails', 'weakness_in_limbs', 'ulcers_on_tongue', 'bruising', 'dizziness', 'sinus_pressure', 'skin_peeling', 'cough', 'muscle_wasting', 'silver_like_dusting', 'swollen_legs', 'cold_hands_and_feets', 'fluid_overload', 'painful_walking', 'chills', 'mucoid_sputum', 'scurring', 'visual_disturbances', 'joint_pain', 'yellow_crust_ooze', 'nodal_skin_eruptions', 'red_sore_around_nose', 'muscle_weakness', 'burning_micturition', 'abdominal_pain', 'indigestion', 'muscle_pain', 'coma', 'loss_of_balance', 'swollen_blood_vessels', 'swelled_lymph_nodes', 'increased_appetite', 'sweating', 'mild_fever', 'hip_joint_pain', 'chest_pain', 'continuous_sneezing', 'congestion', 'spotting_urination', 'fatigue', 'pain_behind_the_eyes', 'distention_of_abdomen', 'pain_in_anal_region', 'red_spots_over_body', 'weight_gain', 'mood_swings', 'acidity', 'breathlessness', 'redness_of_eyes', 'blackheads', 'loss_of_appetite', 'history_of_alcohol_consumption', 'dehydration', 'diarrhoea', 'rusty_sputum', 'depression', 'acute_liver_failure', 'bladder_discomfort', 'high_fever', 'polyuria', 'vomiting', 'drying_and_tingling_lips', 'weight_loss', 'malaise', 'blister', 'yellowish_skin', 'restlessness', 'foul_smell_of_urine', 'blurred_and_distorted_vision', 'extra_marital_contacts', 'obesity', 'pain_during_bowel_movements', 'irritation_in_anus', 'yellow_urine', 'constipation', 'skin_rash', 'swollen_extremities', 'itching', 'toxic_look_(typhos)', 'excessive_hunger', 'unsteadiness', 'stomach_bleeding', 'continuous_feel_of_urine', 'sunken_eyes', 'blood_in_sputum', 'fast_heart_rate', 'knee_pain', 'yellowing_of_eyes', 'puffy_face_and_eyes', 'bloody_stool', 'receiving_blood_transfusion']\n",
    "\n",
    "result_df.head()"
   ]
  },
  {
   "cell_type": "code",
   "execution_count": 121,
   "id": "7b2be5cf",
   "metadata": {
    "scrolled": true
   },
   "outputs": [
    {
     "ename": "TypeError",
     "evalue": "prediction() takes 1 positional argument but 2 were given",
     "output_type": "error",
     "traceback": [
      "\u001b[1;31m---------------------------------------------------------------------------\u001b[0m",
      "\u001b[1;31mTypeError\u001b[0m                                 Traceback (most recent call last)",
      "Input \u001b[1;32mIn [121]\u001b[0m, in \u001b[0;36m<cell line: 41>\u001b[1;34m()\u001b[0m\n\u001b[0;32m     38\u001b[0m result_df \u001b[38;5;241m=\u001b[39m pd\u001b[38;5;241m.\u001b[39mDataFrame(data_reshaped, columns\u001b[38;5;241m=\u001b[39mX_train[:\u001b[38;5;241m131\u001b[39m])  \u001b[38;5;66;03m# Use only the first 131 columns\u001b[39;00m\n\u001b[0;32m     40\u001b[0m \u001b[38;5;66;03m# Make predictions using the model\u001b[39;00m\n\u001b[1;32m---> 41\u001b[0m predictions \u001b[38;5;241m=\u001b[39m \u001b[43mmodel\u001b[49m\u001b[38;5;241;43m.\u001b[39;49m\u001b[43mprediction\u001b[49m\u001b[43m(\u001b[49m\u001b[43mresult_df\u001b[49m\u001b[43m)\u001b[49m\n\u001b[0;32m     43\u001b[0m \u001b[38;5;66;03m# Print the predictions\u001b[39;00m\n\u001b[0;32m     44\u001b[0m \u001b[38;5;28mprint\u001b[39m(predictions)\n",
      "\u001b[1;31mTypeError\u001b[0m: prediction() takes 1 positional argument but 2 were given"
     ]
    }
   ],
   "source": [
    "# Define your model path (Modify this path accordingly)\n",
    "model_path = 'C:/Users/doguy/Desktop/Health'  # Change this path to the directory containing the saved model\n",
    "\n",
    "# Create an instance of the Prediction class\n",
    "\n",
    "# Sample data (Replace this with your actual data to be predicted)\n",
    "data = np.array([[result_df]]) # Replace this with your actual data to be predicted\n",
    "\n",
    "# Define the columns of X_train without spaces\n",
    "X_train = ['enlarged_thyroid', 'cramps', 'stomach_pain', 'movement_stiffness', 'passage_of_gases', 'family_history', \n",
    "           'nausea', 'headache', 'dischromic_patches', 'altered_sensorium', 'back_pain', 'irregular_sugar_level', \n",
    "           'lack_of_concentration', 'brittle_nails', 'watering_from_eyes', 'abnormal_menstruation', 'pus_filled_pimples', \n",
    "           'spinning_movements', 'anxiety', 'slurred_speech', 'weakness_of_one_body_side', 'stiff_neck', 'palpitations', \n",
    "           'irritability', 'throat_irritation', 'runny_nose', 'phlegm', 'inflammatory_nails', 'belly_pain', \n",
    "           'receiving_unsterile_injections', 'neck_pain', 'patches_in_throat', 'prominent_veins_on_calf', 'lethargy', \n",
    "           'internal_itching', 'shivering', 'dark_urine', 'swelling_of_stomach', 'loss_of_smell', 'swelling_joints', \n",
    "           'small_dents_in_nails', 'weakness_in_limbs', 'ulcers_on_tongue', 'bruising', 'dizziness', 'sinus_pressure', \n",
    "           'skin_peeling', 'cough', 'muscle_wasting', 'silver_like_dusting', 'swollen_legs', 'cold_hands_and_feets', \n",
    "           'fluid_overload', 'painful_walking', 'chills', 'mucoid_sputum', 'scurring', 'visual_disturbances', 'joint_pain', \n",
    "           'yellow_crust_ooze', 'nodal_skin_eruptions', 'red_sore_around_nose', 'muscle_weakness', 'burning_micturition', \n",
    "           'abdominal_pain', 'indigestion', 'muscle_pain', 'coma', 'loss_of_balance', 'swollen_blood_vessels', \n",
    "           'swelled_lymph_nodes', 'increased_appetite', 'sweating', 'mild_fever', 'hip_joint_pain', 'chest_pain', \n",
    "           'continuous_sneezing', 'congestion', 'spotting_urination', 'fatigue', 'pain_behind_the_eyes', 'distention_of_abdomen', \n",
    "           'pain_in_anal_region', 'red_spots_over_body', 'weight_gain', 'mood_swings', 'acidity', 'breathlessness', \n",
    "           'redness_of_eyes', 'blackheads', 'loss_of_appetite', 'history_of_alcohol_consumption', 'dehydration', 'diarrhoea', \n",
    "           'rusty_sputum', 'depression', 'acute_liver_failure', 'bladder_discomfort', 'high_fever', 'polyuria', 'vomiting', \n",
    "           'drying_and_tingling_lips', 'weight_loss', 'malaise', 'blister', 'yellowish_skin', 'restlessness', \n",
    "           'foul_smell_of_urine', 'blurred_and_distorted_vision', 'extra_marital_contacts', 'obesity', \n",
    "           'pain_during_bowel_movements', 'irritation_in_anus', 'yellow_urine', 'constipation', 'skin_rash', \n",
    "           'swollen_extremities', 'itching', 'toxic_look_(typhos)', 'excessive_hunger', 'unsteadiness', 'stomach_bleeding', \n",
    "           'continuous_feel_of_urine', 'sunken_eyes', 'blood_in_sputum', 'fast_heart_rate', 'knee_pain', 'yellowing_of_eyes', \n",
    "           'puffy_face_and_eyes', 'bloody_stool', 'receiving_blood_transfusion']\n",
    "\n",
    "# Reshape the data to match the number of columns in X_train\n",
    "data_reshaped = data.reshape(1, -1)[:, :131]  # Use only the first 131 columns\n",
    "\n",
    "# Create the DataFrame with the same columns as in X_train\n",
    "result_df = pd.DataFrame(data_reshaped, columns=X_train[:131])  # Use only the first 131 columns\n",
    "\n",
    "# Make predictions using the model\n",
    "predictions = model.prediction(result_df)\n",
    "\n",
    "# Print the predictions\n",
    "print(predictions)"
   ]
  },
  {
   "cell_type": "code",
   "execution_count": null,
   "id": "596e06df",
   "metadata": {},
   "outputs": [],
   "source": []
  },
  {
   "cell_type": "code",
   "execution_count": null,
   "id": "c071fec6",
   "metadata": {},
   "outputs": [],
   "source": []
  },
  {
   "cell_type": "code",
   "execution_count": null,
   "id": "d72f49cb",
   "metadata": {},
   "outputs": [],
   "source": []
  }
 ],
 "metadata": {
  "kernelspec": {
   "display_name": "Python 3 (ipykernel)",
   "language": "python",
   "name": "python3"
  },
  "language_info": {
   "codemirror_mode": {
    "name": "ipython",
    "version": 3
   },
   "file_extension": ".py",
   "mimetype": "text/x-python",
   "name": "python",
   "nbconvert_exporter": "python",
   "pygments_lexer": "ipython3",
   "version": "3.9.12"
  }
 },
 "nbformat": 4,
 "nbformat_minor": 5
}
